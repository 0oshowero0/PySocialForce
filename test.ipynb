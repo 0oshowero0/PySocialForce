{
 "cells": [
  {
   "cell_type": "code",
   "execution_count": 2,
   "metadata": {},
   "outputs": [],
   "source": [
    "import numpy as np\n",
    "import socialforce\n",
    "from contextlib import contextmanager\n",
    "import matplotlib as mpl\n",
    "try:\n",
    "    import matplotlib.pyplot as plt\n",
    "    import matplotlib.animation as mpl_animation\n",
    "except ImportError:\n",
    "    plt = None\n",
    "    mpl_animation = Non\n",
    "%matplotlib inline\n",
    "from numba import njit\n",
    "from timeit import timeit"
   ]
  },
  {
   "cell_type": "code",
   "execution_count": 3,
   "metadata": {},
   "outputs": [],
   "source": [
    "@contextmanager\n",
    "def visualize(states, space):\n",
    "    print('')\n",
    "    with socialforce.show.animation(\n",
    "            len(states),\n",
    "            writer='imagemagick') as context:\n",
    "        ax = context['ax']\n",
    "        ax.set_xlabel('x [m]')\n",
    "        ax.set_ylabel('y [m]')\n",
    "\n",
    "        yield ax\n",
    "\n",
    "        for s in space:\n",
    "            ax.plot(s[:, 0], s[:, 1], '-o', color='black', markersize=2.5)\n",
    "\n",
    "        actors = []\n",
    "        for ped in range(states.shape[1]):\n",
    "            speed = np.linalg.norm(states[0, ped, 2:4])\n",
    "            radius = 0.2 + speed / 2.0 * 0.3\n",
    "            p = plt.Circle(states[0, ped, 0:2], radius=radius,\n",
    "                           facecolor='black' if states[0, ped, 4] > 0 else 'white',\n",
    "                           edgecolor='black')\n",
    "            actors.append(p)\n",
    "            ax.add_patch(p)\n",
    "\n",
    "        def update(i):\n",
    "            for ped, p in enumerate(actors):\n",
    "                # p.set_data(states[i:i+5, ped, 0], states[i:i+5, ped, 1])\n",
    "                p.center = states[i, ped, 0:2]\n",
    "                speed = np.linalg.norm(states[i, ped, 2:4])\n",
    "                p.set_radius(0.2 + speed / 2.0 * 0.3)\n",
    "\n",
    "        context['update_function'] = update"
   ]
  },
  {
   "cell_type": "code",
   "execution_count": 4,
   "metadata": {},
   "outputs": [],
   "source": [
    "def test_separator():\n",
    "    initial_state = np.array([\n",
    "        [-10.0, -0.0, 1.0, 0.0, 10.0, 0.0],\n",
    "    ])\n",
    "    space = [\n",
    "        np.array([(i, i) for i in np.linspace(-1, 4.0)]),\n",
    "    ]\n",
    "    s = socialforce.Simulator(initial_state, socialforce.PedSpacePotential(space))\n",
    "    states = np.stack([s.step().state.copy() for _ in range(80)])\n",
    "\n",
    "    # visualize\n",
    "    with visualize(states, space, 'docs/separator.gif') as ax:\n",
    "        ax.set_xlim(-10, 10)"
   ]
  },
  {
   "cell_type": "code",
   "execution_count": 5,
   "metadata": {},
   "outputs": [],
   "source": [
    "def r_ab(state):\n",
    "    \"\"\"r_ab\n",
    "    r_ab := r_a − r_b.\n",
    "    \"\"\"\n",
    "    r = state[:, 0:2]\n",
    "    r_a = np.expand_dims(r, 1)\n",
    "    r_b = np.expand_dims(r, 0)\n",
    "    return r_a - r_b\n"
   ]
  },
  {
   "cell_type": "code",
   "execution_count": 6,
   "metadata": {},
   "outputs": [
    {
     "output_type": "execute_result",
     "data": {
      "text/plain": "3.903516436002974"
     },
     "metadata": {},
     "execution_count": 6
    }
   ],
   "source": [
    "a = np.random.random((15,6))\n",
    "r=a[:,0:2]; \n",
    "timeit('np.expand_dims(r, 1) ', setup='from __main__ import np, r')"
   ]
  },
  {
   "cell_type": "code",
   "execution_count": 7,
   "metadata": {},
   "outputs": [],
   "source": [
    "r=a[:, 0:2]"
   ]
  },
  {
   "cell_type": "code",
   "execution_count": 8,
   "metadata": {},
   "outputs": [
    {
     "output_type": "execute_result",
     "data": {
      "text/plain": "array([[[0.93975664, 0.95845065],\n        [0.80812148, 0.47425952],\n        [0.50912247, 0.10253324],\n        [0.93528894, 0.80475063],\n        [0.13395655, 0.59670155],\n        [0.5906764 , 0.62693926],\n        [0.97491925, 0.49060199],\n        [0.91463305, 0.87136243],\n        [0.21889136, 0.42751392],\n        [0.16115189, 0.79127455],\n        [0.37068321, 0.72594091],\n        [0.83708733, 0.24854019],\n        [0.15199676, 0.45379353],\n        [0.13972677, 0.20060956],\n        [0.65781534, 0.97204912]]])"
     },
     "metadata": {},
     "execution_count": 8
    }
   ],
   "source": [
    "np.expand_dims(r, 0)"
   ]
  },
  {
   "cell_type": "code",
   "execution_count": 63,
   "metadata": {},
   "outputs": [],
   "source": [
    "a = np.random.random((15,6))\n",
    "b=[[1,2,3],[5,6]]\n"
   ]
  },
  {
   "cell_type": "code",
   "execution_count": 12,
   "metadata": {},
   "outputs": [
    {
     "output_type": "stream",
     "name": "stdout",
     "text": "[[0.1575226  0.74302909 0.61273455 0.53950188 0.5704478  0.4693705 ]\n [0.59956391 0.19666366 0.78788385 0.20956496 0.69503992 0.97762946]\n [0.79268426 0.58102377 0.46123196 0.08876448 0.59370221 0.25486497]]\n[[0.36040076 0.51324657 0.70009683 0.29982745 0.65001176 0.89407087]\n [0.1001721  0.18214999 0.62964004 0.23707038 0.27892567 0.79420435]]\n"
    }
   ],
   "source": [
    "for i in b:\n",
    "    print(a[i])"
   ]
  },
  {
   "cell_type": "code",
   "execution_count": 15,
   "metadata": {},
   "outputs": [
    {
     "output_type": "error",
     "ename": "SyntaxError",
     "evalue": "invalid syntax (<ipython-input-15-c23b6853f86e>, line 1)",
     "traceback": [
      "\u001b[0;36m  File \u001b[0;32m\"<ipython-input-15-c23b6853f86e>\"\u001b[0;36m, line \u001b[0;32m1\u001b[0m\n\u001b[0;31m    a[i] for i in b\u001b[0m\n\u001b[0m           ^\u001b[0m\n\u001b[0;31mSyntaxError\u001b[0m\u001b[0;31m:\u001b[0m invalid syntax\n"
     ]
    }
   ],
   "source": [
    "a[i] for i in b"
   ]
  },
  {
   "cell_type": "code",
   "execution_count": 16,
   "metadata": {},
   "outputs": [
    {
     "output_type": "execute_result",
     "data": {
      "text/plain": "array([[1],\n       [2],\n       [3],\n       [4],\n       [5]])"
     },
     "metadata": {},
     "execution_count": 16
    }
   ],
   "source": [
    "np.expand_dims([1,2,3,4,5],-1)"
   ]
  },
  {
   "cell_type": "code",
   "execution_count": 17,
   "metadata": {},
   "outputs": [],
   "source": [
    "def r_ab(state):\n",
    "        \"\"\"r_ab\n",
    "        r_ab := r_a − r_b.\n",
    "        \"\"\"\n",
    "        r = state[:, 0:2]\n",
    "        r_a = np.expand_dims(r, 1)\n",
    "        r_b = np.expand_dims(r, 0)\n",
    "        return r_a - r_b"
   ]
  },
  {
   "cell_type": "code",
   "execution_count": 31,
   "metadata": {},
   "outputs": [
    {
     "output_type": "execute_result",
     "data": {
      "text/plain": "array([-0.44204132,  0.54636544])"
     },
     "metadata": {},
     "execution_count": 31
    }
   ],
   "source": [
    "r_ab(a)[1,2]"
   ]
  },
  {
   "cell_type": "code",
   "execution_count": 34,
   "metadata": {},
   "outputs": [
    {
     "output_type": "execute_result",
     "data": {
      "text/plain": "array([[0.        , 0.56722521, 1.03060711, 0.90543849, 0.65353686,\n        0.78068562, 0.7898188 , 0.94297426, 1.07174323, 0.75136439,\n        0.77537355, 0.63041696, 0.88048003, 1.18841522, 0.78985669],\n       [0.56722521, 0.        , 0.95252387, 0.83806127, 0.51728743,\n        0.58799353, 0.77467879, 1.07950616, 0.6383511 , 0.57132917,\n        0.79150664, 0.67287851, 0.95833494, 0.86355125, 1.05693606],\n       [1.03060711, 0.95252387, 0.        , 0.91595864, 1.19872526,\n        0.42695105, 0.69440357, 0.96338586, 1.36013589, 0.71876234,\n        1.016986  , 0.9400819 , 1.2867366 , 1.28411991, 0.99712962],\n       [0.90543849, 0.83806127, 0.91595864, 0.        , 0.66820665,\n        0.83953662, 1.03874951, 0.55521142, 1.05876025, 0.71952653,\n        1.27934395, 1.0096857 , 0.98341118, 0.97646534, 0.66418884],\n       [0.65353686, 0.51728743, 1.19872526, 0.66820665, 0.        ,\n        0.91188829, 0.93909714, 0.98995636, 0.75050989, 0.66519697,\n        0.98792092, 0.77423619, 1.0334549 , 0.87920113, 0.96634884],\n       [0.78068562, 0.58799353, 0.42695105, 0.83953662, 0.91188829,\n        0.        , 0.57786219, 1.02689946, 1.07983323, 0.42394774,\n        0.79093249, 0.76324028, 1.1479884 , 1.12222833, 1.03596558],\n       [0.7898188 , 0.77467879, 0.69440357, 1.03874951, 0.93909714,\n        0.57786219, 0.        , 1.12480285, 1.25839104, 0.54548189,\n        0.52915522, 0.58298617, 1.43155594, 1.27257212, 1.07680705],\n       [0.94297426, 1.07950616, 0.96338586, 0.55521142, 0.98995636,\n        1.02689946, 1.12480285, 0.        , 1.37095996, 1.02662059,\n        1.43815644, 1.15436951, 1.04919134, 1.2897171 , 0.28181382],\n       [1.07174323, 0.6383511 , 1.36013589, 1.05876025, 0.75050989,\n        1.07983323, 1.25839104, 1.37095996, 0.        , 1.06502881,\n        1.19203745, 0.973205  , 1.01394581, 0.45699104, 1.37870661],\n       [0.75136439, 0.57132917, 0.71876234, 0.71952653, 0.66519697,\n        0.42394774, 0.54548189, 1.02662059, 1.06502881, 0.        ,\n        0.77630032, 0.7494591 , 1.26559492, 1.12739827, 1.0419048 ],\n       [0.77537355, 0.79150664, 1.016986  , 1.27934395, 0.98792092,\n        0.79093249, 0.52915522, 1.43815644, 1.19203745, 0.77630032,\n        0.        , 0.41070998, 1.37328523, 1.23506874, 1.31814341],\n       [0.63041696, 0.67287851, 0.9400819 , 1.0096857 , 0.77423619,\n        0.76324028, 0.58298617, 1.15436951, 0.973205  , 0.7494591 ,\n        0.41070998, 0.        , 1.0783959 , 0.93005969, 1.02541795],\n       [0.88048003, 0.95833494, 1.2867366 , 0.98341118, 1.0334549 ,\n        1.1479884 , 1.43155594, 1.04919134, 1.01394581, 1.26559492,\n        1.37328523, 1.0783959 , 0.        , 0.98939937, 0.94196841],\n       [1.18841522, 0.86355125, 1.28411991, 0.97646534, 0.87920113,\n        1.12222833, 1.27257212, 1.2897171 , 0.45699104, 1.12739827,\n        1.23506874, 0.93005969, 0.98939937, 0.        , 1.29671433],\n       [0.78985669, 1.05693606, 0.99712962, 0.66418884, 0.96634884,\n        1.03596558, 1.07680705, 0.28181382, 1.37870661, 1.0419048 ,\n        1.31814341, 1.02541795, 0.94196841, 1.29671433, 0.        ]])"
     },
     "metadata": {},
     "execution_count": 34
    }
   ],
   "source": [
    "from scipy.spatial import distance_matrix\n",
    "distance_matrix(a,a)"
   ]
  },
  {
   "cell_type": "code",
   "execution_count": 91,
   "metadata": {},
   "outputs": [],
   "source": [
    "from numba import njit\n",
    "\n",
    "@njit\n",
    "def speeds(state):\n",
    "    \"\"\"Return the speeds corresponding to a given state.\"\"\"\n",
    "    speeds = []\n",
    "    for s in state[:, 2:4]:\n",
    "        speeds.append(np.linalg.norm(s))\n",
    "    return np.array(speeds)\n",
    "def speeds2(state):\n",
    "    \"\"\"Return the speeds corresponding to a given state.\"\"\"\n",
    "    return np.linalg.norm(state[:, 2:4], axis=-1)"
   ]
  },
  {
   "cell_type": "code",
   "execution_count": 92,
   "metadata": {},
   "outputs": [],
   "source": [
    "from timeit import timeit"
   ]
  },
  {
   "cell_type": "code",
   "execution_count": 93,
   "metadata": {},
   "outputs": [
    {
     "output_type": "error",
     "ename": "TypingError",
     "evalue": "Failed in nopython mode pipeline (step: nopython frontend)\n\u001b[1m\u001b[1mInvalid use of Function(<built-in function setitem>) with argument(s) of type(s): (array(float64, 2d, C), array(bool, 1d, C), list(int64))\n * parameterized\n\u001b[1mIn definition 0:\u001b[0m\n\u001b[1m    All templates rejected with literals.\u001b[0m\n\u001b[1mIn definition 1:\u001b[0m\n\u001b[1m    All templates rejected without literals.\u001b[0m\n\u001b[1mIn definition 2:\u001b[0m\n\u001b[1m    All templates rejected with literals.\u001b[0m\n\u001b[1mIn definition 3:\u001b[0m\n\u001b[1m    All templates rejected without literals.\u001b[0m\n\u001b[1mIn definition 4:\u001b[0m\n\u001b[1m    All templates rejected with literals.\u001b[0m\n\u001b[1mIn definition 5:\u001b[0m\n\u001b[1m    All templates rejected without literals.\u001b[0m\n\u001b[1mIn definition 6:\u001b[0m\n\u001b[1m    All templates rejected with literals.\u001b[0m\n\u001b[1mIn definition 7:\u001b[0m\n\u001b[1m    All templates rejected without literals.\u001b[0m\n\u001b[1mIn definition 8:\u001b[0m\n\u001b[1m    All templates rejected with literals.\u001b[0m\n\u001b[1mIn definition 9:\u001b[0m\n\u001b[1m    All templates rejected without literals.\u001b[0m\n\u001b[1mThis error is usually caused by passing an argument of a type that is unsupported by the named function.\u001b[0m\u001b[0m\n\u001b[0m\u001b[1m[1] During: typing of setitem at <ipython-input-91-72927f3babdd> (11)\u001b[0m\n\u001b[1m\nFile \"<ipython-input-91-72927f3babdd>\", line 11:\u001b[0m\n\u001b[1mdef desired_directions(state):\n    <source elided>\n    norm_factors = np.array(norm_factors)\n\u001b[1m    destination_vectors [norm_factors == 0] = [0, 0]\n\u001b[0m    \u001b[1m^\u001b[0m\u001b[0m\n",
     "traceback": [
      "\u001b[0;31m---------------------------------------------------------------------------\u001b[0m",
      "\u001b[0;31mTypingError\u001b[0m                               Traceback (most recent call last)",
      "\u001b[0;32m<ipython-input-93-dcce54021e16>\u001b[0m in \u001b[0;36m<module>\u001b[0;34m\u001b[0m\n\u001b[0;32m----> 1\u001b[0;31m \u001b[0mtimeit\u001b[0m\u001b[0;34m(\u001b[0m\u001b[0;34m\"desired_directions(a)\"\u001b[0m\u001b[0;34m,\u001b[0m \u001b[0msetup\u001b[0m\u001b[0;34m=\u001b[0m\u001b[0;34m\"from __main__ import desired_directions, a\"\u001b[0m\u001b[0;34m)\u001b[0m\u001b[0;34m\u001b[0m\u001b[0;34m\u001b[0m\u001b[0m\n\u001b[0m",
      "\u001b[0;32m~/.pyenv/versions/conda-env/lib/python3.7/timeit.py\u001b[0m in \u001b[0;36mtimeit\u001b[0;34m(stmt, setup, timer, number, globals)\u001b[0m\n\u001b[1;32m    230\u001b[0m            number=default_number, globals=None):\n\u001b[1;32m    231\u001b[0m     \u001b[0;34m\"\"\"Convenience function to create Timer object and call timeit method.\"\"\"\u001b[0m\u001b[0;34m\u001b[0m\u001b[0;34m\u001b[0m\u001b[0m\n\u001b[0;32m--> 232\u001b[0;31m     \u001b[0;32mreturn\u001b[0m \u001b[0mTimer\u001b[0m\u001b[0;34m(\u001b[0m\u001b[0mstmt\u001b[0m\u001b[0;34m,\u001b[0m \u001b[0msetup\u001b[0m\u001b[0;34m,\u001b[0m \u001b[0mtimer\u001b[0m\u001b[0;34m,\u001b[0m \u001b[0mglobals\u001b[0m\u001b[0;34m)\u001b[0m\u001b[0;34m.\u001b[0m\u001b[0mtimeit\u001b[0m\u001b[0;34m(\u001b[0m\u001b[0mnumber\u001b[0m\u001b[0;34m)\u001b[0m\u001b[0;34m\u001b[0m\u001b[0;34m\u001b[0m\u001b[0m\n\u001b[0m\u001b[1;32m    233\u001b[0m \u001b[0;34m\u001b[0m\u001b[0m\n\u001b[1;32m    234\u001b[0m def repeat(stmt=\"pass\", setup=\"pass\", timer=default_timer,\n",
      "\u001b[0;32m~/.pyenv/versions/conda-env/lib/python3.7/timeit.py\u001b[0m in \u001b[0;36mtimeit\u001b[0;34m(self, number)\u001b[0m\n\u001b[1;32m    174\u001b[0m         \u001b[0mgc\u001b[0m\u001b[0;34m.\u001b[0m\u001b[0mdisable\u001b[0m\u001b[0;34m(\u001b[0m\u001b[0;34m)\u001b[0m\u001b[0;34m\u001b[0m\u001b[0;34m\u001b[0m\u001b[0m\n\u001b[1;32m    175\u001b[0m         \u001b[0;32mtry\u001b[0m\u001b[0;34m:\u001b[0m\u001b[0;34m\u001b[0m\u001b[0;34m\u001b[0m\u001b[0m\n\u001b[0;32m--> 176\u001b[0;31m             \u001b[0mtiming\u001b[0m \u001b[0;34m=\u001b[0m \u001b[0mself\u001b[0m\u001b[0;34m.\u001b[0m\u001b[0minner\u001b[0m\u001b[0;34m(\u001b[0m\u001b[0mit\u001b[0m\u001b[0;34m,\u001b[0m \u001b[0mself\u001b[0m\u001b[0;34m.\u001b[0m\u001b[0mtimer\u001b[0m\u001b[0;34m)\u001b[0m\u001b[0;34m\u001b[0m\u001b[0;34m\u001b[0m\u001b[0m\n\u001b[0m\u001b[1;32m    177\u001b[0m         \u001b[0;32mfinally\u001b[0m\u001b[0;34m:\u001b[0m\u001b[0;34m\u001b[0m\u001b[0;34m\u001b[0m\u001b[0m\n\u001b[1;32m    178\u001b[0m             \u001b[0;32mif\u001b[0m \u001b[0mgcold\u001b[0m\u001b[0;34m:\u001b[0m\u001b[0;34m\u001b[0m\u001b[0;34m\u001b[0m\u001b[0m\n",
      "\u001b[0;32m~/.pyenv/versions/conda-env/lib/python3.7/timeit.py\u001b[0m in \u001b[0;36minner\u001b[0;34m(_it, _timer)\u001b[0m\n",
      "\u001b[0;32m~/.pyenv/versions/conda-env/lib/python3.7/site-packages/numba/core/dispatcher.py\u001b[0m in \u001b[0;36m_compile_for_args\u001b[0;34m(self, *args, **kws)\u001b[0m\n\u001b[1;32m    399\u001b[0m                 \u001b[0me\u001b[0m\u001b[0;34m.\u001b[0m\u001b[0mpatch_message\u001b[0m\u001b[0;34m(\u001b[0m\u001b[0mmsg\u001b[0m\u001b[0;34m)\u001b[0m\u001b[0;34m\u001b[0m\u001b[0;34m\u001b[0m\u001b[0m\n\u001b[1;32m    400\u001b[0m \u001b[0;34m\u001b[0m\u001b[0m\n\u001b[0;32m--> 401\u001b[0;31m             \u001b[0merror_rewrite\u001b[0m\u001b[0;34m(\u001b[0m\u001b[0me\u001b[0m\u001b[0;34m,\u001b[0m \u001b[0;34m'typing'\u001b[0m\u001b[0;34m)\u001b[0m\u001b[0;34m\u001b[0m\u001b[0;34m\u001b[0m\u001b[0m\n\u001b[0m\u001b[1;32m    402\u001b[0m         \u001b[0;32mexcept\u001b[0m \u001b[0merrors\u001b[0m\u001b[0;34m.\u001b[0m\u001b[0mUnsupportedError\u001b[0m \u001b[0;32mas\u001b[0m \u001b[0me\u001b[0m\u001b[0;34m:\u001b[0m\u001b[0;34m\u001b[0m\u001b[0;34m\u001b[0m\u001b[0m\n\u001b[1;32m    403\u001b[0m             \u001b[0;31m# Something unsupported is present in the user code, add help info\u001b[0m\u001b[0;34m\u001b[0m\u001b[0;34m\u001b[0m\u001b[0;34m\u001b[0m\u001b[0m\n",
      "\u001b[0;32m~/.pyenv/versions/conda-env/lib/python3.7/site-packages/numba/core/dispatcher.py\u001b[0m in \u001b[0;36merror_rewrite\u001b[0;34m(e, issue_type)\u001b[0m\n\u001b[1;32m    342\u001b[0m                 \u001b[0;32mraise\u001b[0m \u001b[0me\u001b[0m\u001b[0;34m\u001b[0m\u001b[0;34m\u001b[0m\u001b[0m\n\u001b[1;32m    343\u001b[0m             \u001b[0;32melse\u001b[0m\u001b[0;34m:\u001b[0m\u001b[0;34m\u001b[0m\u001b[0;34m\u001b[0m\u001b[0m\n\u001b[0;32m--> 344\u001b[0;31m                 \u001b[0mreraise\u001b[0m\u001b[0;34m(\u001b[0m\u001b[0mtype\u001b[0m\u001b[0;34m(\u001b[0m\u001b[0me\u001b[0m\u001b[0;34m)\u001b[0m\u001b[0;34m,\u001b[0m \u001b[0me\u001b[0m\u001b[0;34m,\u001b[0m \u001b[0;32mNone\u001b[0m\u001b[0;34m)\u001b[0m\u001b[0;34m\u001b[0m\u001b[0;34m\u001b[0m\u001b[0m\n\u001b[0m\u001b[1;32m    345\u001b[0m \u001b[0;34m\u001b[0m\u001b[0m\n\u001b[1;32m    346\u001b[0m         \u001b[0margtypes\u001b[0m \u001b[0;34m=\u001b[0m \u001b[0;34m[\u001b[0m\u001b[0;34m]\u001b[0m\u001b[0;34m\u001b[0m\u001b[0;34m\u001b[0m\u001b[0m\n",
      "\u001b[0;32m~/.pyenv/versions/conda-env/lib/python3.7/site-packages/numba/core/utils.py\u001b[0m in \u001b[0;36mreraise\u001b[0;34m(tp, value, tb)\u001b[0m\n\u001b[1;32m     78\u001b[0m         \u001b[0mvalue\u001b[0m \u001b[0;34m=\u001b[0m \u001b[0mtp\u001b[0m\u001b[0;34m(\u001b[0m\u001b[0;34m)\u001b[0m\u001b[0;34m\u001b[0m\u001b[0;34m\u001b[0m\u001b[0m\n\u001b[1;32m     79\u001b[0m     \u001b[0;32mif\u001b[0m \u001b[0mvalue\u001b[0m\u001b[0;34m.\u001b[0m\u001b[0m__traceback__\u001b[0m \u001b[0;32mis\u001b[0m \u001b[0;32mnot\u001b[0m \u001b[0mtb\u001b[0m\u001b[0;34m:\u001b[0m\u001b[0;34m\u001b[0m\u001b[0;34m\u001b[0m\u001b[0m\n\u001b[0;32m---> 80\u001b[0;31m         \u001b[0;32mraise\u001b[0m \u001b[0mvalue\u001b[0m\u001b[0;34m.\u001b[0m\u001b[0mwith_traceback\u001b[0m\u001b[0;34m(\u001b[0m\u001b[0mtb\u001b[0m\u001b[0;34m)\u001b[0m\u001b[0;34m\u001b[0m\u001b[0;34m\u001b[0m\u001b[0m\n\u001b[0m\u001b[1;32m     81\u001b[0m     \u001b[0;32mraise\u001b[0m \u001b[0mvalue\u001b[0m\u001b[0;34m\u001b[0m\u001b[0;34m\u001b[0m\u001b[0m\n\u001b[1;32m     82\u001b[0m \u001b[0;34m\u001b[0m\u001b[0m\n",
      "\u001b[0;31mTypingError\u001b[0m: Failed in nopython mode pipeline (step: nopython frontend)\n\u001b[1m\u001b[1mInvalid use of Function(<built-in function setitem>) with argument(s) of type(s): (array(float64, 2d, C), array(bool, 1d, C), list(int64))\n * parameterized\n\u001b[1mIn definition 0:\u001b[0m\n\u001b[1m    All templates rejected with literals.\u001b[0m\n\u001b[1mIn definition 1:\u001b[0m\n\u001b[1m    All templates rejected without literals.\u001b[0m\n\u001b[1mIn definition 2:\u001b[0m\n\u001b[1m    All templates rejected with literals.\u001b[0m\n\u001b[1mIn definition 3:\u001b[0m\n\u001b[1m    All templates rejected without literals.\u001b[0m\n\u001b[1mIn definition 4:\u001b[0m\n\u001b[1m    All templates rejected with literals.\u001b[0m\n\u001b[1mIn definition 5:\u001b[0m\n\u001b[1m    All templates rejected without literals.\u001b[0m\n\u001b[1mIn definition 6:\u001b[0m\n\u001b[1m    All templates rejected with literals.\u001b[0m\n\u001b[1mIn definition 7:\u001b[0m\n\u001b[1m    All templates rejected without literals.\u001b[0m\n\u001b[1mIn definition 8:\u001b[0m\n\u001b[1m    All templates rejected with literals.\u001b[0m\n\u001b[1mIn definition 9:\u001b[0m\n\u001b[1m    All templates rejected without literals.\u001b[0m\n\u001b[1mThis error is usually caused by passing an argument of a type that is unsupported by the named function.\u001b[0m\u001b[0m\n\u001b[0m\u001b[1m[1] During: typing of setitem at <ipython-input-91-72927f3babdd> (11)\u001b[0m\n\u001b[1m\nFile \"<ipython-input-91-72927f3babdd>\", line 11:\u001b[0m\n\u001b[1mdef desired_directions(state):\n    <source elided>\n    norm_factors = np.array(norm_factors)\n\u001b[1m    destination_vectors [norm_factors == 0] = [0, 0]\n\u001b[0m    \u001b[1m^\u001b[0m\u001b[0m\n"
     ]
    }
   ],
   "source": [
    "timeit(\"desired_directions(a)\", setup=\"from __main__ import desired_directions, a\")"
   ]
  },
  {
   "cell_type": "code",
   "execution_count": 77,
   "metadata": {},
   "outputs": [],
   "source": [
    "b = a[:, 4:6] - a[:, 0:2]\n",
    "c=[]\n",
    "for i in b:\n",
    "    c.append(np.linalg.norm(i))"
   ]
  },
  {
   "cell_type": "code",
   "execution_count": 79,
   "metadata": {},
   "outputs": [
    {
     "output_type": "execute_result",
     "data": {
      "text/plain": "array([1.04014516, 0.44271955, 0.7085655 , 0.75631648, 0.83731874,\n       0.88986989, 0.70479232, 0.46156009, 0.4002257 , 0.78521197,\n       0.29882979, 0.5646522 , 0.47329184, 0.59147457, 0.68845587])"
     },
     "metadata": {},
     "execution_count": 79
    }
   ],
   "source": [
    "c = np.asarray(c)\n",
    "c"
   ]
  },
  {
   "cell_type": "code",
   "execution_count": 73,
   "metadata": {},
   "outputs": [
    {
     "output_type": "execute_result",
     "data": {
      "text/plain": "array([1.04014516, 0.44271955, 0.7085655 , 0.75631648, 0.83731874,\n       0.88986989, 0.70479232, 0.46156009, 0.4002257 , 0.78521197,\n       0.29882979, 0.5646522 , 0.47329184, 0.59147457, 0.68845587])"
     },
     "metadata": {},
     "execution_count": 73
    }
   ],
   "source": [
    "np.linalg.norm(b, axis=-1)"
   ]
  },
  {
   "cell_type": "code",
   "execution_count": 87,
   "metadata": {},
   "outputs": [
    {
     "output_type": "execute_result",
     "data": {
      "text/plain": "(15, 1)"
     },
     "metadata": {},
     "execution_count": 87
    }
   ],
   "source": [
    "np.expand_dims(c, -1).shape"
   ]
  },
  {
   "cell_type": "code",
   "execution_count": 86,
   "metadata": {},
   "outputs": [
    {
     "output_type": "execute_result",
     "data": {
      "text/plain": "(15,)"
     },
     "metadata": {},
     "execution_count": 86
    }
   ],
   "source": [
    "c.shape"
   ]
  },
  {
   "cell_type": "code",
   "execution_count": 172,
   "metadata": {},
   "outputs": [],
   "source": [
    "from abc import ABC, abstractmethod\n",
    "\n",
    "class A(ABC):\n",
    "    def __init__(self):\n",
    "        self.name=type(self).__name__\n",
    "\n",
    "    @abstractmethod\n",
    "    def aa(self):\n",
    "        pass\n",
    "\n",
    "class B(A):\n",
    "    def aa(self):\n",
    "        return np.random.random((3,3))"
   ]
  },
  {
   "cell_type": "code",
   "execution_count": 115,
   "metadata": {},
   "outputs": [
    {
     "output_type": "stream",
     "name": "stdout",
     "text": "B\n"
    }
   ],
   "source": [
    "b=B()\n",
    "b.aa(1)\n"
   ]
  },
  {
   "cell_type": "code",
   "execution_count": 116,
   "metadata": {},
   "outputs": [
    {
     "output_type": "stream",
     "name": "stdout",
     "text": "camel_case_name\n"
    }
   ],
   "source": [
    "import re\n",
    "\n",
    "name = 'CamelCaseName'\n",
    "name = re.sub(r'(?<!^)(?=[A-Z])', '_', name).lower()\n",
    "print(name)  # camel_case_name"
   ]
  },
  {
   "cell_type": "code",
   "execution_count": 120,
   "metadata": {},
   "outputs": [
    {
     "output_type": "execute_result",
     "data": {
      "text/plain": "True"
     },
     "metadata": {},
     "execution_count": 120
    }
   ],
   "source": [
    "k={1:2}\n",
    "k.get(3) is None"
   ]
  },
  {
   "cell_type": "code",
   "execution_count": 134,
   "metadata": {},
   "outputs": [],
   "source": [
    "from socialforce.potentials import PedPedPotential\n",
    "from socialforce import stateutils"
   ]
  },
  {
   "cell_type": "code",
   "execution_count": 143,
   "metadata": {},
   "outputs": [
    {
     "output_type": "execute_result",
     "data": {
      "text/plain": "(15, 15, 2)"
     },
     "metadata": {},
     "execution_count": 143
    }
   ],
   "source": [
    "V = PedPedPotential(1)\n",
    "a = np.random.random((15,7))\n",
    "V.grad_r_ab(a).shape\n"
   ]
  },
  {
   "cell_type": "code",
   "execution_count": 144,
   "metadata": {},
   "outputs": [],
   "source": [
    "vel = a[:, 2:4]\n",
    "tau = a[:, 6:7]\n",
    "e = stateutils.desired_directions(a)\n",
    "F0 = 1.0 / tau * (np.expand_dims(stateutils.speeds(a), -1) * e - vel)"
   ]
  },
  {
   "cell_type": "code",
   "execution_count": 147,
   "metadata": {},
   "outputs": [
    {
     "output_type": "execute_result",
     "data": {
      "text/plain": "(15, 2)"
     },
     "metadata": {},
     "execution_count": 147
    }
   ],
   "source": [
    "F0.shape"
   ]
  },
  {
   "cell_type": "code",
   "execution_count": 174,
   "metadata": {},
   "outputs": [
    {
     "output_type": "execute_result",
     "data": {
      "text/plain": "array([[2.23380899, 1.92670594, 1.46995999],\n       [2.383146  , 0.63375966, 1.42286419],\n       [0.59535968, 1.8066675 , 2.06413655]])"
     },
     "metadata": {},
     "execution_count": 174
    }
   ],
   "source": [
    "bl = [B(), B(), B()]\n",
    "sum(map(lambda x: x.aa(), bl))"
   ]
  },
  {
   "cell_type": "code",
   "execution_count": 158,
   "metadata": {},
   "outputs": [],
   "source": [
    "space = [\n",
    "        np.array([(0.0, y) for y in np.linspace(-10, -0.7, 1000)]),\n",
    "        np.array([(0.0, y) for y in np.linspace(0.7, 10, 1000)]),\n",
    "    ]"
   ]
  },
  {
   "cell_type": "code",
   "execution_count": 164,
   "metadata": {},
   "outputs": [],
   "source": [
    "import toml\n",
    "f = toml.loads('''title = \"Social Force Config File\"\n",
    "\n",
    "time_step = 0.4\n",
    "max_speed_multiplier = 1.3\n",
    "tau = 0.5\n",
    "\n",
    "[goal_attractive_force]\n",
    "factor = 1.0\n",
    "\n",
    "[ped_repulsive_force]\n",
    "factor = 1.0\n",
    "v0 = 10\n",
    "sigma = 0.3\n",
    "# fov params\n",
    "fov_phi = 100.0\n",
    "fov_factor = 0.5 # out of view factor\n",
    "\n",
    "[space_repulsive_force]\n",
    "factor = 1.0\n",
    "u0 = 10\n",
    "r = 0.2\n",
    "\n",
    "[group_coherence_force]\n",
    "\n",
    "[group_repulsive_force]\n",
    "\n",
    "[group_gaze_force]''')"
   ]
  },
  {
   "cell_type": "code",
   "execution_count": 165,
   "metadata": {},
   "outputs": [
    {
     "output_type": "execute_result",
     "data": {
      "text/plain": "{'title': 'Social Force Config File',\n 'time_step': 0.4,\n 'max_speed_multiplier': 1.3,\n 'tau': 0.5,\n 'goal_attractive_force': {'factor': 1.0},\n 'ped_repulsive_force': {'factor': 1.0,\n  'v0': 10,\n  'sigma': 0.3,\n  'fov_phi': 100.0,\n  'fov_factor': 0.5},\n 'space_repulsive_force': {'factor': 1.0, 'u0': 10, 'r': 0.2},\n 'group_coherence_force': {},\n 'group_repulsive_force': {},\n 'group_gaze_force': {}}"
     },
     "metadata": {},
     "execution_count": 165
    }
   ],
   "source": [
    "f"
   ]
  },
  {
   "cell_type": "code",
   "execution_count": 183,
   "metadata": {},
   "outputs": [
    {
     "output_type": "execute_result",
     "data": {
      "text/plain": "array([[0.        , 0.10110868, 0.36682945],\n       [0.10110868, 0.        , 0.39915365],\n       [0.36682945, 0.39915365, 0.        ]])"
     },
     "metadata": {},
     "execution_count": 183
    }
   ],
   "source": [
    "from scipy.spatial import distance_matrix\n",
    "b = a[[2,3,4]]\n",
    "distance_matrix(b[:, 0:2],b[:, 0:2])"
   ]
  },
  {
   "cell_type": "code",
   "execution_count": 181,
   "metadata": {},
   "outputs": [
    {
     "output_type": "execute_result",
     "data": {
      "text/plain": "array([[0.13139352, 0.33601537],\n       [0.03511724, 0.30513101],\n       [0.30972286, 0.01544948]])"
     },
     "metadata": {},
     "execution_count": 181
    }
   ],
   "source": [
    "b[:,:2]"
   ]
  },
  {
   "cell_type": "code",
   "execution_count": 210,
   "metadata": {},
   "outputs": [],
   "source": [
    "from scipy.spatial.distance import cdist\n",
    "k=cdist([[0.13139352, 0.33601537],\n",
    "       [0.03511724, 0.30513101],\n",
    "       [0.30972286, 0.01544948]], [[0.13139352, 0.33601537],\n",
    "       [0.03511724, 0.30513101],\n",
    "       [0.30972286, 0.01544948]])"
   ]
  },
  {
   "cell_type": "code",
   "execution_count": 213,
   "metadata": {},
   "outputs": [
    {
     "output_type": "execute_result",
     "data": {
      "text/plain": "array([0.        , 0.10110868, 0.10110868, 0.        , 0.        ])"
     },
     "metadata": {},
     "execution_count": 213
    }
   ],
   "source": [
    "k[k<0.2]"
   ]
  },
  {
   "cell_type": "code",
   "execution_count": 222,
   "metadata": {},
   "outputs": [],
   "source": [
    "l=np.expand_dims(k, axis=-1)"
   ]
  },
  {
   "cell_type": "code",
   "execution_count": 234,
   "metadata": {},
   "outputs": [
    {
     "output_type": "execute_result",
     "data": {
      "text/plain": "array([[0.10110868],\n       [0.10110868],\n       [0.        ]])"
     },
     "metadata": {},
     "execution_count": 234
    }
   ],
   "source": [
    "l[l>0.2]=0\n",
    "np.sum(l, axis=1)"
   ]
  },
  {
   "cell_type": "code",
   "execution_count": 230,
   "metadata": {},
   "outputs": [
    {
     "output_type": "execute_result",
     "data": {
      "text/plain": "array([[[0.        ],\n        [0.10110868],\n        [0.        ]],\n\n       [[0.10110868],\n        [0.        ],\n        [0.        ]],\n\n       [[0.        ],\n        [0.        ],\n        [0.        ]]])"
     },
     "metadata": {},
     "execution_count": 230
    }
   ],
   "source": [
    "l"
   ]
  },
  {
   "cell_type": "code",
   "execution_count": 208,
   "metadata": {},
   "outputs": [
    {
     "output_type": "execute_result",
     "data": {
      "text/plain": "0.8395808530040085"
     },
     "metadata": {},
     "execution_count": 208
    }
   ],
   "source": [
    "timeit(\"group_center(b)\", setup=\"from __main__ import group_center, b\")"
   ]
  },
  {
   "cell_type": "code",
   "execution_count": 238,
   "metadata": {},
   "outputs": [],
   "source": [
    "k=np.zeros((a.shape[0],1))"
   ]
  },
  {
   "cell_type": "code",
   "execution_count": 239,
   "metadata": {},
   "outputs": [],
   "source": [
    "k[[2,3,4]] = np.sum(l, axis=1)"
   ]
  },
  {
   "cell_type": "code",
   "execution_count": 240,
   "metadata": {},
   "outputs": [
    {
     "output_type": "execute_result",
     "data": {
      "text/plain": "array([[0.        ],\n       [0.        ],\n       [0.10110868],\n       [0.10110868],\n       [0.        ],\n       [0.        ],\n       [0.        ],\n       [0.        ],\n       [0.        ],\n       [0.        ],\n       [0.        ],\n       [0.        ],\n       [0.        ],\n       [0.        ],\n       [0.        ]])"
     },
     "metadata": {},
     "execution_count": 240
    }
   ],
   "source": [
    "k"
   ]
  },
  {
   "cell_type": "code",
   "execution_count": 4,
   "metadata": {},
   "outputs": [],
   "source": [
    "import numpy as np\n",
    "state = np.array(\n",
    "        [\n",
    "            [\n",
    "                0.20641395,\n",
    "                0.37025059,\n",
    "                0.83481168,\n",
    "                0.81327761,\n",
    "                0.40032738,\n",
    "                0.02289462,\n",
    "                0.07277386,\n",
    "            ],\n",
    "            [\n",
    "                0.86297966,\n",
    "                0.12240028,\n",
    "                0.74459341,\n",
    "                0.7000413,\n",
    "                0.85403137,\n",
    "                0.39727004,\n",
    "                0.38040942,\n",
    "            ],\n",
    "            [\n",
    "                0.13139352,\n",
    "                0.33601537,\n",
    "                0.96760778,\n",
    "                0.95073568,\n",
    "                0.0067437,\n",
    "                0.81560067,\n",
    "                0.95832751,\n",
    "            ],\n",
    "            [\n",
    "                0.03511724,\n",
    "                0.30513101,\n",
    "                0.74446203,\n",
    "                0.26100916,\n",
    "                0.90492352,\n",
    "                0.17652219,\n",
    "                0.83667939,\n",
    "            ],\n",
    "            [\n",
    "                0.30972286,\n",
    "                0.01544948,\n",
    "                0.51499794,\n",
    "                0.53418732,\n",
    "                0.28598274,\n",
    "                0.6405337,\n",
    "                0.47180045,\n",
    "            ],\n",
    "            [\n",
    "                0.26194976,\n",
    "                0.46709103,\n",
    "                0.88775726,\n",
    "                0.36179478,\n",
    "                0.6046481,\n",
    "                0.56133123,\n",
    "                0.28768578,\n",
    "            ],\n",
    "        ]\n",
    "    )\n",
    "groups = [[1, 3, 4], [0, 2]]"
   ]
  },
  {
   "cell_type": "code",
   "execution_count": 8,
   "metadata": {},
   "outputs": [
    {
     "output_type": "execute_result",
     "data": {
      "text/plain": "array([[0.08246281],\n       [0.        ],\n       [0.08246281],\n       [0.39915365],\n       [0.39915365],\n       [0.        ]])"
     },
     "metadata": {},
     "execution_count": 8
    }
   ],
   "source": [
    "from socialforce.forces import *\n",
    "import toml\n",
    "f = GroupRepulsiveForce()\n",
    "f.config={'factor': 1.0, 'threshold': 0.5}\n",
    "f.set_state(state, groups=groups)\n",
    "f.get_force()\n"
   ]
  },
  {
   "cell_type": "code",
   "execution_count": 10,
   "metadata": {},
   "outputs": [
    {
     "output_type": "execute_result",
     "data": {
      "text/plain": "array([[-0.29358605, -0.62974941],\n       [ 0.36297966, -0.87759972],\n       [-0.36860648, -0.66398463],\n       [-0.46488276, -0.69486899],\n       [-0.19027714, -0.98455052],\n       [-0.23805024, -0.53290897]])"
     },
     "metadata": {},
     "execution_count": 10
    }
   ],
   "source": [
    "state[:,:2] - [0.5,1]"
   ]
  },
  {
   "cell_type": "code",
   "execution_count": 16,
   "metadata": {},
   "outputs": [
    {
     "output_type": "error",
     "ename": "TypingError",
     "evalue": "Failed in nopython mode pipeline (step: nopython frontend)\n\u001b[1m\u001b[1m\u001b[1mInvalid use of Function(<built-in function getitem>) with argument(s) of type(s): (reflected list(array(float64, 2d, A)), UniTuple(slice<a:b> x 2))\n * parameterized\n\u001b[1mIn definition 0:\u001b[0m\n\u001b[1m    All templates rejected with literals.\u001b[0m\n\u001b[1mIn definition 1:\u001b[0m\n\u001b[1m    All templates rejected without literals.\u001b[0m\n\u001b[1mIn definition 2:\u001b[0m\n\u001b[1m    All templates rejected with literals.\u001b[0m\n\u001b[1mIn definition 3:\u001b[0m\n\u001b[1m    All templates rejected without literals.\u001b[0m\n\u001b[1mIn definition 4:\u001b[0m\n\u001b[1m    All templates rejected with literals.\u001b[0m\n\u001b[1mIn definition 5:\u001b[0m\n\u001b[1m    All templates rejected without literals.\u001b[0m\n\u001b[1mIn definition 6:\u001b[0m\n\u001b[1m    All templates rejected with literals.\u001b[0m\n\u001b[1mIn definition 7:\u001b[0m\n\u001b[1m    All templates rejected without literals.\u001b[0m\n\u001b[1mIn definition 8:\u001b[0m\n\u001b[1m    All templates rejected with literals.\u001b[0m\n\u001b[1mIn definition 9:\u001b[0m\n\u001b[1m    All templates rejected without literals.\u001b[0m\n\u001b[1mIn definition 10:\u001b[0m\n\u001b[1m    All templates rejected with literals.\u001b[0m\n\u001b[1mIn definition 11:\u001b[0m\n\u001b[1m    All templates rejected without literals.\u001b[0m\n\u001b[1mIn definition 12:\u001b[0m\n\u001b[1m    All templates rejected with literals.\u001b[0m\n\u001b[1mIn definition 13:\u001b[0m\n\u001b[1m    All templates rejected without literals.\u001b[0m\n\u001b[1mIn definition 14:\u001b[0m\n\u001b[1m    All templates rejected with literals.\u001b[0m\n\u001b[1mIn definition 15:\u001b[0m\n\u001b[1m    All templates rejected without literals.\u001b[0m\n\u001b[1mThis error is usually caused by passing an argument of a type that is unsupported by the named function.\u001b[0m\u001b[0m\n\u001b[0m\u001b[1m[1] During: typing of intrinsic-call at /home/yxgao/Projects/social_nav_ws/socialforce/socialforce/stateutils.py (31)\u001b[0m\n\u001b[0m\u001b[1m[2] During: typing of static-get-item at /home/yxgao/Projects/social_nav_ws/socialforce/socialforce/stateutils.py (31)\u001b[0m\n\u001b[1m\nFile \"socialforce/stateutils.py\", line 31:\u001b[0m\n\u001b[1mdef group_center(state):\n\u001b[1m    return np.sum(state[:, 0:2], axis=0) / state.shape[0]\n\u001b[0m    \u001b[1m^\u001b[0m\u001b[0m\n",
     "traceback": [
      "\u001b[0;31m---------------------------------------------------------------------------\u001b[0m",
      "\u001b[0;31mTypingError\u001b[0m                               Traceback (most recent call last)",
      "\u001b[0;32m<ipython-input-16-806304edb713>\u001b[0m in \u001b[0;36m<module>\u001b[0;34m\u001b[0m\n\u001b[0;32m----> 1\u001b[0;31m \u001b[0mcom\u001b[0m \u001b[0;34m=\u001b[0m \u001b[0mstateutils\u001b[0m\u001b[0;34m.\u001b[0m\u001b[0mgroup_center\u001b[0m\u001b[0;34m(\u001b[0m\u001b[0;34m[\u001b[0m\u001b[0mstate\u001b[0m\u001b[0;34m[\u001b[0m\u001b[0;34m[\u001b[0m\u001b[0;36m2\u001b[0m\u001b[0;34m,\u001b[0m\u001b[0;36m3\u001b[0m\u001b[0;34m,\u001b[0m\u001b[0;36m4\u001b[0m\u001b[0;34m]\u001b[0m\u001b[0;34m]\u001b[0m\u001b[0;34m[\u001b[0m\u001b[0;34m:\u001b[0m\u001b[0;34m,\u001b[0m \u001b[0;34m:\u001b[0m\u001b[0;36m2\u001b[0m\u001b[0;34m]\u001b[0m\u001b[0;34m]\u001b[0m\u001b[0;34m)\u001b[0m\u001b[0;34m\u001b[0m\u001b[0;34m\u001b[0m\u001b[0m\n\u001b[0m",
      "\u001b[0;32m~/.pyenv/versions/conda-env/lib/python3.7/site-packages/numba/core/dispatcher.py\u001b[0m in \u001b[0;36m_compile_for_args\u001b[0;34m(self, *args, **kws)\u001b[0m\n\u001b[1;32m    399\u001b[0m                 \u001b[0me\u001b[0m\u001b[0;34m.\u001b[0m\u001b[0mpatch_message\u001b[0m\u001b[0;34m(\u001b[0m\u001b[0mmsg\u001b[0m\u001b[0;34m)\u001b[0m\u001b[0;34m\u001b[0m\u001b[0;34m\u001b[0m\u001b[0m\n\u001b[1;32m    400\u001b[0m \u001b[0;34m\u001b[0m\u001b[0m\n\u001b[0;32m--> 401\u001b[0;31m             \u001b[0merror_rewrite\u001b[0m\u001b[0;34m(\u001b[0m\u001b[0me\u001b[0m\u001b[0;34m,\u001b[0m \u001b[0;34m'typing'\u001b[0m\u001b[0;34m)\u001b[0m\u001b[0;34m\u001b[0m\u001b[0;34m\u001b[0m\u001b[0m\n\u001b[0m\u001b[1;32m    402\u001b[0m         \u001b[0;32mexcept\u001b[0m \u001b[0merrors\u001b[0m\u001b[0;34m.\u001b[0m\u001b[0mUnsupportedError\u001b[0m \u001b[0;32mas\u001b[0m \u001b[0me\u001b[0m\u001b[0;34m:\u001b[0m\u001b[0;34m\u001b[0m\u001b[0;34m\u001b[0m\u001b[0m\n\u001b[1;32m    403\u001b[0m             \u001b[0;31m# Something unsupported is present in the user code, add help info\u001b[0m\u001b[0;34m\u001b[0m\u001b[0;34m\u001b[0m\u001b[0;34m\u001b[0m\u001b[0m\n",
      "\u001b[0;32m~/.pyenv/versions/conda-env/lib/python3.7/site-packages/numba/core/dispatcher.py\u001b[0m in \u001b[0;36merror_rewrite\u001b[0;34m(e, issue_type)\u001b[0m\n\u001b[1;32m    342\u001b[0m                 \u001b[0;32mraise\u001b[0m \u001b[0me\u001b[0m\u001b[0;34m\u001b[0m\u001b[0;34m\u001b[0m\u001b[0m\n\u001b[1;32m    343\u001b[0m             \u001b[0;32melse\u001b[0m\u001b[0;34m:\u001b[0m\u001b[0;34m\u001b[0m\u001b[0;34m\u001b[0m\u001b[0m\n\u001b[0;32m--> 344\u001b[0;31m                 \u001b[0mreraise\u001b[0m\u001b[0;34m(\u001b[0m\u001b[0mtype\u001b[0m\u001b[0;34m(\u001b[0m\u001b[0me\u001b[0m\u001b[0;34m)\u001b[0m\u001b[0;34m,\u001b[0m \u001b[0me\u001b[0m\u001b[0;34m,\u001b[0m \u001b[0;32mNone\u001b[0m\u001b[0;34m)\u001b[0m\u001b[0;34m\u001b[0m\u001b[0;34m\u001b[0m\u001b[0m\n\u001b[0m\u001b[1;32m    345\u001b[0m \u001b[0;34m\u001b[0m\u001b[0m\n\u001b[1;32m    346\u001b[0m         \u001b[0margtypes\u001b[0m \u001b[0;34m=\u001b[0m \u001b[0;34m[\u001b[0m\u001b[0;34m]\u001b[0m\u001b[0;34m\u001b[0m\u001b[0;34m\u001b[0m\u001b[0m\n",
      "\u001b[0;32m~/.pyenv/versions/conda-env/lib/python3.7/site-packages/numba/core/utils.py\u001b[0m in \u001b[0;36mreraise\u001b[0;34m(tp, value, tb)\u001b[0m\n\u001b[1;32m     78\u001b[0m         \u001b[0mvalue\u001b[0m \u001b[0;34m=\u001b[0m \u001b[0mtp\u001b[0m\u001b[0;34m(\u001b[0m\u001b[0;34m)\u001b[0m\u001b[0;34m\u001b[0m\u001b[0;34m\u001b[0m\u001b[0m\n\u001b[1;32m     79\u001b[0m     \u001b[0;32mif\u001b[0m \u001b[0mvalue\u001b[0m\u001b[0;34m.\u001b[0m\u001b[0m__traceback__\u001b[0m \u001b[0;32mis\u001b[0m \u001b[0;32mnot\u001b[0m \u001b[0mtb\u001b[0m\u001b[0;34m:\u001b[0m\u001b[0;34m\u001b[0m\u001b[0;34m\u001b[0m\u001b[0m\n\u001b[0;32m---> 80\u001b[0;31m         \u001b[0;32mraise\u001b[0m \u001b[0mvalue\u001b[0m\u001b[0;34m.\u001b[0m\u001b[0mwith_traceback\u001b[0m\u001b[0;34m(\u001b[0m\u001b[0mtb\u001b[0m\u001b[0;34m)\u001b[0m\u001b[0;34m\u001b[0m\u001b[0;34m\u001b[0m\u001b[0m\n\u001b[0m\u001b[1;32m     81\u001b[0m     \u001b[0;32mraise\u001b[0m \u001b[0mvalue\u001b[0m\u001b[0;34m\u001b[0m\u001b[0;34m\u001b[0m\u001b[0m\n\u001b[1;32m     82\u001b[0m \u001b[0;34m\u001b[0m\u001b[0m\n",
      "\u001b[0;31mTypingError\u001b[0m: Failed in nopython mode pipeline (step: nopython frontend)\n\u001b[1m\u001b[1m\u001b[1mInvalid use of Function(<built-in function getitem>) with argument(s) of type(s): (reflected list(array(float64, 2d, A)), UniTuple(slice<a:b> x 2))\n * parameterized\n\u001b[1mIn definition 0:\u001b[0m\n\u001b[1m    All templates rejected with literals.\u001b[0m\n\u001b[1mIn definition 1:\u001b[0m\n\u001b[1m    All templates rejected without literals.\u001b[0m\n\u001b[1mIn definition 2:\u001b[0m\n\u001b[1m    All templates rejected with literals.\u001b[0m\n\u001b[1mIn definition 3:\u001b[0m\n\u001b[1m    All templates rejected without literals.\u001b[0m\n\u001b[1mIn definition 4:\u001b[0m\n\u001b[1m    All templates rejected with literals.\u001b[0m\n\u001b[1mIn definition 5:\u001b[0m\n\u001b[1m    All templates rejected without literals.\u001b[0m\n\u001b[1mIn definition 6:\u001b[0m\n\u001b[1m    All templates rejected with literals.\u001b[0m\n\u001b[1mIn definition 7:\u001b[0m\n\u001b[1m    All templates rejected without literals.\u001b[0m\n\u001b[1mIn definition 8:\u001b[0m\n\u001b[1m    All templates rejected with literals.\u001b[0m\n\u001b[1mIn definition 9:\u001b[0m\n\u001b[1m    All templates rejected without literals.\u001b[0m\n\u001b[1mIn definition 10:\u001b[0m\n\u001b[1m    All templates rejected with literals.\u001b[0m\n\u001b[1mIn definition 11:\u001b[0m\n\u001b[1m    All templates rejected without literals.\u001b[0m\n\u001b[1mIn definition 12:\u001b[0m\n\u001b[1m    All templates rejected with literals.\u001b[0m\n\u001b[1mIn definition 13:\u001b[0m\n\u001b[1m    All templates rejected without literals.\u001b[0m\n\u001b[1mIn definition 14:\u001b[0m\n\u001b[1m    All templates rejected with literals.\u001b[0m\n\u001b[1mIn definition 15:\u001b[0m\n\u001b[1m    All templates rejected without literals.\u001b[0m\n\u001b[1mThis error is usually caused by passing an argument of a type that is unsupported by the named function.\u001b[0m\u001b[0m\n\u001b[0m\u001b[1m[1] During: typing of intrinsic-call at /home/yxgao/Projects/social_nav_ws/socialforce/socialforce/stateutils.py (31)\u001b[0m\n\u001b[0m\u001b[1m[2] During: typing of static-get-item at /home/yxgao/Projects/social_nav_ws/socialforce/socialforce/stateutils.py (31)\u001b[0m\n\u001b[1m\nFile \"socialforce/stateutils.py\", line 31:\u001b[0m\n\u001b[1mdef group_center(state):\n\u001b[1m    return np.sum(state[:, 0:2], axis=0) / state.shape[0]\n\u001b[0m    \u001b[1m^\u001b[0m\u001b[0m\n"
     ]
    }
   ],
   "source": [
    "com = stateutils.group_center([state[[2,3,4]][:, :2]])"
   ]
  },
  {
   "cell_type": "code",
   "execution_count": 22,
   "metadata": {},
   "outputs": [
    {
     "output_type": "execute_result",
     "data": {
      "text/plain": "array([0.12030054, 0.15074974, 0.2533228 ])"
     },
     "metadata": {},
     "execution_count": 22
    }
   ],
   "source": [
    "np.linalg.norm(com - state[[2,3,4]][:,:2], axis=1)"
   ]
  },
  {
   "cell_type": "code",
   "execution_count": 20,
   "metadata": {},
   "outputs": [
    {
     "output_type": "execute_result",
     "data": {
      "text/plain": "(3, 2)"
     },
     "metadata": {},
     "execution_count": 20
    }
   ],
   "source": [
    "(com - state[[2,3,4]][:,:2]).shape"
   ]
  },
  {
   "cell_type": "code",
   "execution_count": 67,
   "metadata": {},
   "outputs": [],
   "source": [
    "from numba import njit,jit\n",
    "from timeit import timeit\n",
    "# @jit\n",
    "# def normalize(mat):\n",
    "#     norm_factors = np.linalg.norm(mat, axis=-1)\n",
    "#     directions = mat / np.expand_dims(norm_factors, -1)\n",
    "#     return directions\n",
    "@njit\n",
    "def normalize(mat):\n",
    "    norm_factors = []\n",
    "    for line in mat:\n",
    "        norm_factors.append(np.linalg.norm(line))\n",
    "    normalized = mat / np.expand_dims(np.array(norm_factors), -1)\n",
    "    return normalized, norm_factors"
   ]
  },
  {
   "cell_type": "code",
   "execution_count": 68,
   "metadata": {},
   "outputs": [
    {
     "output_type": "execute_result",
     "data": {
      "text/plain": "2.34487513199565"
     },
     "metadata": {},
     "execution_count": 68
    }
   ],
   "source": [
    "timeit(\"normalize(state[:,:2])\", setup=\"from __main__ import normalize, state\")"
   ]
  },
  {
   "cell_type": "code",
   "execution_count": 64,
   "metadata": {},
   "outputs": [
    {
     "output_type": "execute_result",
     "data": {
      "text/plain": "array([[0.48693883, 0.87343607],\n       [0.99009075, 0.14042902],\n       [0.3641812 , 0.93132811],\n       [0.11433434, 0.99344233],\n       [0.99875823, 0.04981968],\n       [0.48914172, 0.87220432]])"
     },
     "metadata": {},
     "execution_count": 64
    }
   ],
   "source": [
    "normalize(state[:,:2])"
   ]
  },
  {
   "cell_type": "code",
   "execution_count": 16,
   "metadata": {},
   "outputs": [],
   "source": [
    "from socialforce.stateutils import normalize, vec_diff\n",
    "m = state[:4, :2]\n",
    "v, d = normalize(vec_diff(m))"
   ]
  },
  {
   "cell_type": "code",
   "execution_count": 25,
   "metadata": {},
   "outputs": [
    {
     "output_type": "execute_result",
     "data": {
      "text/plain": "array([[[ 0.        ,  0.        ],\n        [-0.490452  ,  0.1851432 ],\n        [ 0.0970231 ,  0.04427604],\n        [ 0.19616163,  0.07457214]],\n\n       [[ 0.89941222, -0.33952367],\n        [ 0.        ,  0.        ],\n        [ 0.94615237, -0.27626607],\n        [ 0.94803247, -0.20925538]],\n\n       [[-0.10276853, -0.04689793],\n        [-0.54649196,  0.15956963],\n        [ 0.        ,  0.        ],\n        [ 0.11025146,  0.03536744]],\n\n       [[-0.23465489, -0.08920561],\n        [-0.61840997,  0.13649914],\n        [-0.12451306, -0.03994241],\n        [ 0.        ,  0.        ]]])"
     },
     "metadata": {},
     "execution_count": 25
    }
   ],
   "source": [
    "v"
   ]
  },
  {
   "cell_type": "code",
   "execution_count": 24,
   "metadata": {},
   "outputs": [
    {
     "output_type": "execute_result",
     "data": {
      "text/plain": "[0.7299942092078088,\n 1.3386951485552256,\n 0.7732223276037036,\n 0.8732426893332906]"
     },
     "metadata": {},
     "execution_count": 24
    }
   ],
   "source": [
    "d"
   ]
  },
  {
   "cell_type": "code",
   "execution_count": 36,
   "metadata": {},
   "outputs": [
    {
     "output_type": "execute_result",
     "data": {
      "text/plain": "[(array([[        nan,         nan],\n         [-0.93555951,  0.35316909],\n         [ 0.90974864,  0.41515951],\n         [ 0.93473496,  0.35534569]]),\n  [0.0, 0.7017893613577368, 0.08246281104736425, 0.18325698501339727]),\n (array([[ 0.93555951, -0.35316909],\n         [        nan,         nan],\n         [ 0.95991679, -0.28028512],\n         [ 0.97649547, -0.2155379 ]]),\n  [0.7017893613577368, 0.0, 0.7621349532174783, 0.8477893052725951]),\n (array([[-0.90974864, -0.41515951],\n         [-0.95991679,  0.28028512],\n         [        nan,         nan],\n         [ 0.95220586,  0.30545705]]),\n  [0.08246281104736425, 0.7621349532174783, 0.0, 0.10110868302597954]),\n (array([[-0.93473496, -0.35534569],\n         [-0.97649547,  0.2155379 ],\n         [-0.95220586, -0.30545705],\n         [        nan,         nan]]),\n  [0.18325698501339727, 0.8477893052725951, 0.10110868302597954, 0.0])]"
     },
     "metadata": {},
     "execution_count": 36
    }
   ],
   "source": [
    "[normalize(l) for l in vec_diff(m)]"
   ]
  },
  {
   "cell_type": "code",
   "execution_count": 32,
   "metadata": {},
   "outputs": [
    {
     "output_type": "execute_result",
     "data": {
      "text/plain": "1.0000000028828684"
     },
     "metadata": {},
     "execution_count": 32
    }
   ],
   "source": [
    "0.93555951**2+ 0.35316909**2"
   ]
  },
  {
   "cell_type": "code",
   "execution_count": 40,
   "metadata": {},
   "outputs": [
    {
     "output_type": "execute_result",
     "data": {
      "text/plain": "(6, 2)"
     },
     "metadata": {},
     "execution_count": 40
    }
   ],
   "source": [
    "f_ab=np.zeros((6, 6, 2))\n",
    "np.sum(f_ab, axis=1).shape"
   ]
  },
  {
   "cell_type": "code",
   "execution_count": 44,
   "metadata": {},
   "outputs": [
    {
     "output_type": "execute_result",
     "data": {
      "text/plain": "array([[0., 0.],\n       [0., 0.],\n       [0., 0.]])"
     },
     "metadata": {},
     "execution_count": 44
    }
   ],
   "source": [
    "forces = np.zeros((state.shape[0], 2))\n",
    "forces[[1,2,3],:]"
   ]
  },
  {
   "cell_type": "code",
   "execution_count": 57,
   "metadata": {},
   "outputs": [],
   "source": [
    "@njit\n",
    "def normalize(mat):\n",
    "    norm_factors = []\n",
    "    for line in mat:\n",
    "        norm_factors.append(np.linalg.norm(line))\n",
    "    norm_factors = np.array(norm_factors)\n",
    "    normalized = mat / np.expand_dims(norm_factors, -1)\n",
    "    return normalized, norm_factors"
   ]
  },
  {
   "cell_type": "code",
   "execution_count": 63,
   "metadata": {},
   "outputs": [],
   "source": [
    "vectors, norms =normalize(vec_diff(state[:, :2])[0])\n",
    "vectors = np.nan_to_num(vectors)\n",
    "vectors[norms>0.2] = [0,0]"
   ]
  },
  {
   "cell_type": "code",
   "execution_count": 11,
   "metadata": {},
   "outputs": [],
   "source": [
    "import numpy as np\n",
    "import timeit\n",
    "from numba import njit, jit"
   ]
  },
  {
   "cell_type": "code",
   "execution_count": 9,
   "metadata": {},
   "outputs": [
    {
     "output_type": "stream",
     "name": "stdout",
     "text": "5.88 µs ± 22.5 ns per loop (mean ± std. dev. of 7 runs, 100000 loops each)\n"
    }
   ],
   "source": [
    "%timeit np.sum([1,2])"
   ]
  },
  {
   "cell_type": "code",
   "execution_count": 11,
   "metadata": {},
   "outputs": [],
   "source": [
    "%load_ext cython"
   ]
  },
  {
   "cell_type": "code",
   "execution_count": 65,
   "metadata": {},
   "outputs": [],
   "source": [
    "%%cython\n",
    "import numpy as np\n",
    "cimport numpy as np\n",
    "def normalize2(double[:,:] mat):\n",
    "    cdef double[:] norm_factors = np.linalg.norm(mat, axis=-1)\n",
    "    normalized = mat / np.expand_dims(norm_factors, -1)\n",
    "    return normalized, norm_factors\n",
    "\n"
   ]
  },
  {
   "cell_type": "code",
   "execution_count": 15,
   "metadata": {},
   "outputs": [],
   "source": [
    "state = np.random.random((15,6))"
   ]
  },
  {
   "cell_type": "code",
   "execution_count": 54,
   "metadata": {},
   "outputs": [],
   "source": [
    "from socialforce.stateutils import *"
   ]
  },
  {
   "cell_type": "code",
   "execution_count": 66,
   "metadata": {},
   "outputs": [
    {
     "output_type": "stream",
     "name": "stdout",
     "text": "24.2 µs ± 91.2 ns per loop (mean ± std. dev. of 7 runs, 10000 loops each)\n"
    }
   ],
   "source": [
    "%timeit normalize2(state)"
   ]
  },
  {
   "cell_type": "code",
   "execution_count": 51,
   "metadata": {},
   "outputs": [
    {
     "output_type": "execute_result",
     "data": {
      "text/plain": "array([[0.8684355 , 0.51035531],\n       [0.74282832, 0.50520676],\n       [0.81173266, 0.17328422],\n       [0.82101978, 0.25224042],\n       [0.7193332 , 0.42492837],\n       [0.69941293, 0.36886388],\n       [0.39712639, 0.73841454],\n       [0.78735899, 0.98971974],\n       [0.1424415 , 0.02370078],\n       [0.26892978, 0.03206733],\n       [0.80114236, 0.96106836],\n       [0.62269205, 0.4986398 ],\n       [0.27041573, 0.4958112 ],\n       [0.07100506, 0.44698214],\n       [0.5383372 , 0.92525308]])"
     },
     "metadata": {},
     "execution_count": 51
    }
   ],
   "source": [
    "state[:, :2]"
   ]
  },
  {
   "cell_type": "code",
   "execution_count": 36,
   "metadata": {},
   "outputs": [
    {
     "output_type": "execute_result",
     "data": {
      "text/plain": "array([[0.79443155, 0.34942958, 0.0369333 , 0.55426836, 0.55716464,\n        0.80173158, 0.70128969],\n       [0.01240691, 0.70700964, 0.57016233, 0.98013914, 0.80394197,\n        0.16704183, 0.36519203],\n       [0.73017366, 0.64449567, 0.40819632, 0.21381814, 0.2967929 ,\n        0.10872888, 0.23028855],\n       [0.18295271, 0.85908636, 0.92276844, 0.94251612, 0.78974431,\n        0.45430138, 0.91943352],\n       [0.53329596, 0.29978034, 0.88640945, 0.44236774, 0.44278228,\n        0.12198758, 0.51128694],\n       [0.4120075 , 0.13384818, 0.23175562, 0.45509601, 0.14269477,\n        0.50164887, 0.06625182],\n       [0.54656168, 0.64144692, 0.39937917, 0.9466161 , 0.18935002,\n        0.80727991, 0.28783943],\n       [0.9747244 , 0.96133071, 0.26456555, 0.13023425, 0.23209924,\n        0.57321796, 0.26774286],\n       [0.42882787, 0.85950015, 0.76398687, 0.23927456, 0.49231733,\n        0.08383806, 0.72249575],\n       [0.46652611, 0.78587203, 0.0697163 , 0.6821024 , 0.94478028,\n        0.84199639, 0.66699799],\n       [0.66124228, 0.26598639, 0.30495625, 0.79086353, 0.16674993,\n        0.49050858, 0.20156116],\n       [0.14484957, 0.51350945, 0.57907693, 0.0685214 , 0.34560018,\n        0.0090441 , 0.25905906],\n       [0.21230169, 0.59473931, 0.28320907, 0.15153919, 0.14330603,\n        0.30493692, 0.87029662],\n       [0.51668138, 0.72858181, 0.67965647, 0.24570989, 0.99655627,\n        0.82464279, 0.9520941 ],\n       [0.78671198, 0.01165548, 0.98064605, 0.28185002, 0.64068352,\n        0.55346905, 0.56867575]])"
     },
     "metadata": {},
     "execution_count": 36
    }
   ],
   "source": [
    "state\n"
   ]
  },
  {
   "cell_type": "code",
   "execution_count": 1,
   "metadata": {
    "tags": [
     "outputPrepend",
     "outputPrepend",
     "outputPrepend",
     "outputPrepend",
     "outputPrepend",
     "outputPrepend",
     "outputPrepend",
     "outputPrepend",
     "outputPrepend",
     "outputPrepend",
     "outputPrepend",
     "outputPrepend",
     "outputPrepend",
     "outputPrepend",
     "outputPrepend",
     "outputPrepend",
     "outputPrepend",
     "outputPrepend"
    ]
   },
   "outputs": [],
   "source": [
    "from socialforce.forces import *\n",
    "import numpy as np\n",
    "state = np.zeros((5,7))\n",
    "state[:,:2] = np.array([[1,1],[1,1.1],[3,3],[3,3.01],[3,4]])\n",
    "\n"
   ]
  },
  {
   "cell_type": "code",
   "execution_count": 94,
   "metadata": {},
   "outputs": [
    {
     "output_type": "execute_result",
     "data": {
      "text/plain": "array([[0.96838684, 0.96838684],\n       [0.87370295, 0.96107324],\n       [0.43194695, 0.43194695],\n       [0.        , 0.        ],\n       [0.        , 0.        ]])"
     },
     "metadata": {},
     "execution_count": 94
    }
   ],
   "source": [
    "class GroupCoherenceForceAlt(Force):\n",
    "    def get_force(self):\n",
    "        forces = np.zeros((self.state.shape[0], 2))\n",
    "        for group in self.groups:\n",
    "            threshold = (len(group) - 1) / 2\n",
    "            member_states = self.state[group, :]\n",
    "            member_pos = member_states[:, 0:2]\n",
    "            com = stateutils.group_center(member_states)\n",
    "            force_vec = com - member_pos\n",
    "            vectors, norms = normalize(force_vec)\n",
    "            softened_factor = (np.tanh(norms - threshold) + 1) / 2\n",
    "            forces[group, :] += (force_vec.T * softened_factor).T\n",
    "        return forces * self.factor\n",
    "\n",
    "class GroupCoherenceForce(Force):\n",
    "    def get_force(self):\n",
    "        forces = np.zeros((self.state.shape[0], 2))\n",
    "        for group in self.groups:\n",
    "            threshold = (len(group) - 1) / 2\n",
    "            member_states = self.state[group, :]\n",
    "            member_pos = member_states[:, 0:2]\n",
    "            com = stateutils.group_center(member_states)\n",
    "            force_vec = com - member_pos\n",
    "            vectors, norms = normalize(force_vec)\n",
    "            print(vectors, norms)\n",
    "            vectors[norms < threshold] = [0, 0]\n",
    "            forces[group, :] += vectors\n",
    "        return forces * self.factor\n",
    "\n",
    "class GroupGazeForce(Force):\n",
    "    def get_force(self):\n",
    "        forces = np.zeros((self.state.shape[0], 2))\n",
    "        vision_angle = self.config.get('fov_phi') or 100.0\n",
    "        walking_directions = stateutils.desired_directions(self.state)\n",
    "        for group in self.groups:\n",
    "            group_size = len(group)\n",
    "            # 1-agent groups don't need to compute this\n",
    "            if group_size <= 1:\n",
    "                continue\n",
    "            member_states = self.state[group, :]\n",
    "            member_pos = member_states[:, 0:2]\n",
    "            member_directions = walking_directions[group, :]\n",
    "            # use center of mass without the current agent\n",
    "            relative_com = np.array([stateutils.group_center(member_pos[np.arange(group_size)!=i, :]) - member_pos[i, :] for i in range(group_size)])\n",
    "\n",
    "            com_directions, com_dists = normalize(relative_com)\n",
    "            # angle between walking direction and center of mass\n",
    "            com_angles = np.degrees([np.arccos(np.dot(d, c)) for d, c in zip(member_directions, com_directions)] )\n",
    "            rotation = np.radians([a - vision_angle if a > vision_angle else 0.0 for a in com_angles])\n",
    "            force = -np.expand_dims(rotation, -1) * member_directions\n",
    "            forces[group, :] += force\n",
    "        return forces * self.factor\n",
    "\n",
    "f = GroupGazeForce()\n",
    "f.set_state(state, groups=[[0,1,3], [2,4]])\n",
    "f.get_force()"
   ]
  },
  {
   "cell_type": "code",
   "execution_count": 48,
   "metadata": {},
   "outputs": [
    {
     "output_type": "stream",
     "name": "stdout",
     "text": "303 µs ± 1.88 µs per loop (mean ± std. dev. of 7 runs, 1000 loops each)\n"
    }
   ],
   "source": [
    "%timeit f.get_force()"
   ]
  },
  {
   "cell_type": "code",
   "execution_count": 61,
   "metadata": {},
   "outputs": [
    {
     "output_type": "execute_result",
     "data": {
      "text/plain": "(3, 2, 2)"
     },
     "metadata": {},
     "execution_count": 61
    }
   ],
   "source": [
    " np.array([[\n",
    "            [0.0, 0.0],\n",
    "            [1.0, 1.0],\n",
    "        ], [\n",
    "            [-1.0, 1.0],\n",
    "            [0.0, 0.0],\n",
    "        ],[\n",
    "            [-1.0, 1.0],\n",
    "            [0.0, 0.0],\n",
    "        ]\n",
    "        ]).shape"
   ]
  },
  {
   "cell_type": "code",
   "execution_count": 54,
   "metadata": {},
   "outputs": [
    {
     "output_type": "execute_result",
     "data": {
      "text/plain": "array([0.96666667, 0.96666667])"
     },
     "metadata": {},
     "execution_count": 54
    }
   ],
   "source": [
    "np.array([ 0.66666667,  0.7       ]) / np.array([ 0.68965517,  0.72413793]) "
   ]
  },
  {
   "cell_type": "code",
   "execution_count": 23,
   "metadata": {},
   "outputs": [
    {
     "output_type": "stream",
     "name": "stdout",
     "text": "1.22 µs ± 1.03 ns per loop (mean ± std. dev. of 7 runs, 1000000 loops each)\n"
    }
   ],
   "source": [
    "%timeit dist(state)"
   ]
  },
  {
   "cell_type": "code",
   "execution_count": 39,
   "metadata": {},
   "outputs": [
    {
     "output_type": "stream",
     "name": "stdout",
     "text": "3.94 µs ± 2.7 ns per loop (mean ± std. dev. of 7 runs, 100000 loops each)\n"
    }
   ],
   "source": [
    "%timeit normalize(state)"
   ]
  },
  {
   "cell_type": "code",
   "execution_count": 37,
   "metadata": {},
   "outputs": [],
   "source": [
    "@njit\n",
    "def distances_numba_array(cluster):\n",
    "    # Original: diff = cluster[:, np.newaxis, :] - cluster[np.newaxis, :, :]\n",
    "    # Since np.newaxis is not supported, we use reshape to do this\n",
    "    diff = (cluster.reshape(cluster.shape[0], 1, cluster.shape[1]) -\n",
    "            cluster.reshape(1, cluster.shape[0], cluster.shape[1]))\n",
    "    mat = (diff * diff)\n",
    "    # Original: mat = mat.sum(-1)\n",
    "    # Since axis argument is not supported, we write the loop out\n",
    "    out = np.empty(mat.shape[:2], dtype=mat.dtype)\n",
    "    for i in np.ndindex(out.shape):\n",
    "        out[i] = mat[i].sum()\n",
    "\n",
    "    return np.sqrt(out)"
   ]
  },
  {
   "cell_type": "code",
   "execution_count": 44,
   "metadata": {},
   "outputs": [],
   "source": [
    "@jit\n",
    "def desired_directions(state):\n",
    "    \"\"\"Given the current state and destination, compute desired direction.\"\"\"\n",
    "    destination_vectors = state[:, 4:6] - state[:, 0:2]\n",
    "    directions, norm_factors = normalize(destination_vectors)\n",
    "    directions[norm_factors == 0] = [0, 0]\n",
    "    return directions\n",
    "\n",
    "@njit\n",
    "def desired_directions2(state):\n",
    "    \"\"\"Given the current state and destination, compute desired direction.\"\"\"\n",
    "    destination_vectors = state[:, 4:6] - state[:, 0:2]\n",
    "    directions, norm_factors = normalize(destination_vectors)\n",
    "    for i in range(norm_factors.shape[0]):\n",
    "        if norm_factors[i] == 0:\n",
    "            directions[i] = [0,0]\n",
    "    return directions"
   ]
  },
  {
   "cell_type": "code",
   "execution_count": 45,
   "metadata": {},
   "outputs": [
    {
     "output_type": "stream",
     "name": "stdout",
     "text": "14.9 µs ± 29.9 ns per loop (mean ± std. dev. of 7 runs, 100000 loops each)\n"
    }
   ],
   "source": [
    "%timeit desired_directions(state)"
   ]
  },
  {
   "cell_type": "code",
   "execution_count": 46,
   "metadata": {},
   "outputs": [
    {
     "output_type": "stream",
     "name": "stdout",
     "text": "5.51 µs ± 3.6 µs per loop (mean ± std. dev. of 7 runs, 1 loop each)\n"
    }
   ],
   "source": [
    "%timeit desired_directions2(state)"
   ]
  },
  {
   "cell_type": "code",
   "execution_count": 29,
   "metadata": {},
   "outputs": [],
   "source": [
    "k=np.dot([0.5,0.5], [[1,1,1],[2,2,2]])"
   ]
  },
  {
   "cell_type": "code",
   "execution_count": 32,
   "metadata": {},
   "outputs": [
    {
     "output_type": "execute_result",
     "data": {
      "text/plain": "array([1.5, 1.5, 1.5])"
     },
     "metadata": {},
     "execution_count": 32
    }
   ],
   "source": [
    "k"
   ]
  },
  {
   "cell_type": "code",
   "execution_count": 58,
   "metadata": {},
   "outputs": [],
   "source": [
    "a = np.ones((3,2))\n",
    "b = np.array([1,1.5,1])"
   ]
  },
  {
   "cell_type": "code",
   "execution_count": 73,
   "metadata": {},
   "outputs": [],
   "source": [
    "import numpy as np\n",
    "state = np.random.random((5,7))"
   ]
  },
  {
   "cell_type": "code",
   "execution_count": 33,
   "metadata": {},
   "outputs": [
    {
     "output_type": "error",
     "ename": "IndexError",
     "evalue": "boolean index did not match indexed array along dimension 0; dimension is 5 but corresponding boolean dimension is 4",
     "traceback": [
      "\u001b[0;31m---------------------------------------------------------------------------\u001b[0m",
      "\u001b[0;31mIndexError\u001b[0m                                Traceback (most recent call last)",
      "\u001b[0;32m<ipython-input-33-b931aa6452cc>\u001b[0m in \u001b[0;36m<module>\u001b[0;34m\u001b[0m\n\u001b[1;32m      1\u001b[0m \u001b[0;32mfrom\u001b[0m \u001b[0mitertools\u001b[0m \u001b[0;32mimport\u001b[0m \u001b[0mcombinations\u001b[0m\u001b[0;34m\u001b[0m\u001b[0;34m\u001b[0m\u001b[0m\n\u001b[0;32m----> 2\u001b[0;31m \u001b[0mstate\u001b[0m\u001b[0;34m[\u001b[0m\u001b[0mnp\u001b[0m\u001b[0;34m.\u001b[0m\u001b[0marange\u001b[0m\u001b[0;34m(\u001b[0m\u001b[0;36m4\u001b[0m\u001b[0;34m)\u001b[0m\u001b[0;34m!=\u001b[0m\u001b[0;36m2\u001b[0m\u001b[0;34m,\u001b[0m\u001b[0;34m:\u001b[0m\u001b[0;34m]\u001b[0m\u001b[0;34m.\u001b[0m\u001b[0mshape\u001b[0m\u001b[0;34m\u001b[0m\u001b[0;34m\u001b[0m\u001b[0m\n\u001b[0m",
      "\u001b[0;31mIndexError\u001b[0m: boolean index did not match indexed array along dimension 0; dimension is 5 but corresponding boolean dimension is 4"
     ]
    }
   ],
   "source": [
    "from itertools import combinations\n",
    "state[np.arange(4).,:].shape\n"
   ]
  },
  {
   "cell_type": "code",
   "execution_count": 1,
   "metadata": {},
   "outputs": [],
   "source": []
  },
  {
   "cell_type": "code",
   "execution_count": 3,
   "metadata": {
    "tags": [
     "outputPrepend"
    ]
   },
   "outputs": [
    {
     "output_type": "stream",
     "name": "stdout",
     "text": "None\nNone\nNone\nNone\nNone\nNone\nNone\nNone\nNone\nNone\nNone\nNone\nNone\nNone\nNone\nNone\nNone\nNone\nNone\nNone\nNone\nNone\nNone\nNone\nNone\nNone\nNone\nNone\nNone\nNone\nNone\nNone\nNone\nNone\nNone\nNone\nNone\nNone\nNone\nNone\nNone\nNone\nNone\nNone\nNone\nNone\nNone\nNone\nNone\nNone\nNone\nNone\nNone\nNone\nNone\nNone\nNone\nNone\nNone\nNone\nNone\nNone\nNone\nNone\nNone\nNone\nNone\nNone\nNone\nNone\nNone\nNone\nNone\nNone\nNone\nNone\nNone\nNone\nNone\nNone\nNone\nNone\nNone\nNone\nNone\nNone\nNone\nNone\nNone\nNone\nNone\nNone\nNone\nNone\nNone\nNone\nNone\nNone\nNone\nNone\n"
    }
   ],
   "source": [
    "import numpy as np\n",
    "import socialforce\n",
    "import matplotlib.cm as cm\n",
    "\n",
    "initial_state = np.array(\n",
    "    [\n",
    "        [0.0, 0.0, 0.5, 0.5, 10.0, 10.0],\n",
    "        [0.0, 1.0, 0.5, 0.5, 10.0, 10.0],\n",
    "        [10.0, 0.3, -0.5, 0.5, 0.0, 10.0],\n",
    "        [11.0, 0.3, -0.5, 0.5, 0.0, 10.0],\n",
    "        [12.0, 0.3, -0.5, 0.5, 0.0, 10.0],\n",
    "    ]\n",
    ")\n",
    "groups = [[0, 1], [2, 3, 4]]\n",
    "colors = cm.rainbow(np.linspace(0, 1, len(groups)))\n",
    "s = socialforce.Simulator(initial_state, groups=groups)\n",
    "states = np.stack([s.step().state.copy() for _ in range(100)])\n",
    "\n",
    "with socialforce.show.canvas(\"docs/group_crossing.png\") as ax:\n",
    "    ax.set_xlabel(\"x [m]\")\n",
    "    ax.set_ylabel(\"y [m]\")\n",
    "\n",
    "    for i, group in enumerate(groups):\n",
    "        color = colors[i]\n",
    "        for ped in group:\n",
    "            x = states[:, ped, 0]\n",
    "            y = states[:, ped, 1]\n",
    "            ax.plot(\n",
    "                x, y, \"-o\", label=\"ped {}\".format(ped), markersize=2.5, color=color\n",
    "            )\n",
    "    ax.legend()\n"
   ]
  },
  {
   "cell_type": "code",
   "execution_count": null,
   "metadata": {},
   "outputs": [],
   "source": []
  }
 ],
 "metadata": {
  "language_info": {
   "codemirror_mode": {
    "name": "ipython",
    "version": 3
   },
   "file_extension": ".py",
   "mimetype": "text/x-python",
   "name": "python",
   "nbconvert_exporter": "python",
   "pygments_lexer": "ipython3",
   "version": "3.7.7-final"
  },
  "orig_nbformat": 2,
  "kernelspec": {
   "name": "python37764bitcondaenvpyenva67352db2d3c4bdd872f33b5c28c050f",
   "display_name": "Python 3.7.7 64-bit ('conda-env': pyenv)"
  }
 },
 "nbformat": 4,
 "nbformat_minor": 2
}